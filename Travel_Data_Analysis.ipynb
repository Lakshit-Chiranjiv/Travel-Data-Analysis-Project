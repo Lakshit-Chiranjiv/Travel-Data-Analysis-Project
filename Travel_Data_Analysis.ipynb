{
 "cells": [
  {
   "cell_type": "code",
   "execution_count": 11,
   "id": "303d5bf8",
   "metadata": {},
   "outputs": [],
   "source": [
    "#importing libraries\n",
    "\n",
    "import pandas as pd\n",
    "import numpy as np\n",
    "import matplotlib.pyplot as plt\n",
    "import seaborn as sns\n",
    "%matplotlib inline"
   ]
  },
  {
   "cell_type": "code",
   "execution_count": 21,
   "id": "1dd57010",
   "metadata": {
    "scrolled": false
   },
   "outputs": [
    {
     "data": {
      "text/html": [
       "<div>\n",
       "<style scoped>\n",
       "    .dataframe tbody tr th:only-of-type {\n",
       "        vertical-align: middle;\n",
       "    }\n",
       "\n",
       "    .dataframe tbody tr th {\n",
       "        vertical-align: top;\n",
       "    }\n",
       "\n",
       "    .dataframe thead th {\n",
       "        text-align: right;\n",
       "    }\n",
       "</style>\n",
       "<table border=\"1\" class=\"dataframe\">\n",
       "  <thead>\n",
       "    <tr style=\"text-align: right;\">\n",
       "      <th></th>\n",
       "      <th>ORIGIN</th>\n",
       "      <th>DESTINATION</th>\n",
       "      <th>TYPE</th>\n",
       "      <th>MODE</th>\n",
       "      <th>DATE</th>\n",
       "      <th>GENDER</th>\n",
       "      <th>WITH</th>\n",
       "      <th>age</th>\n",
       "    </tr>\n",
       "  </thead>\n",
       "  <tbody>\n",
       "    <tr>\n",
       "      <th>0</th>\n",
       "      <td>DELHI</td>\n",
       "      <td>mumbai</td>\n",
       "      <td>NATIONAL</td>\n",
       "      <td>ROAD</td>\n",
       "      <td>12-04-2007</td>\n",
       "      <td>M</td>\n",
       "      <td>FAMILY</td>\n",
       "      <td>30.0</td>\n",
       "    </tr>\n",
       "    <tr>\n",
       "      <th>1</th>\n",
       "      <td>PUNE</td>\n",
       "      <td>mumbai</td>\n",
       "      <td>NATIONAL</td>\n",
       "      <td>AIR</td>\n",
       "      <td>04-12-2002</td>\n",
       "      <td>F</td>\n",
       "      <td>FAMILY</td>\n",
       "      <td>20.0</td>\n",
       "    </tr>\n",
       "    <tr>\n",
       "      <th>2</th>\n",
       "      <td>MUMBAI</td>\n",
       "      <td>mumbai</td>\n",
       "      <td>NATIONAL</td>\n",
       "      <td>AIR</td>\n",
       "      <td>05-12-2020</td>\n",
       "      <td>M</td>\n",
       "      <td>FRNDS</td>\n",
       "      <td>29.0</td>\n",
       "    </tr>\n",
       "    <tr>\n",
       "      <th>3</th>\n",
       "      <td>GOA</td>\n",
       "      <td>mumbai</td>\n",
       "      <td>NATIONAL</td>\n",
       "      <td>BIKE</td>\n",
       "      <td>12-07-2003</td>\n",
       "      <td>F</td>\n",
       "      <td>SOLO</td>\n",
       "      <td>23.0</td>\n",
       "    </tr>\n",
       "    <tr>\n",
       "      <th>4</th>\n",
       "      <td>RAJASTHAN</td>\n",
       "      <td>mumbai</td>\n",
       "      <td>NATIONAL</td>\n",
       "      <td>CAR</td>\n",
       "      <td>12-05-2008</td>\n",
       "      <td>M</td>\n",
       "      <td>FAMILY</td>\n",
       "      <td>27.0</td>\n",
       "    </tr>\n",
       "  </tbody>\n",
       "</table>\n",
       "</div>"
      ],
      "text/plain": [
       "      ORIGIN DESTINATION      TYPE  MODE        DATE GENDER    WITH   age\n",
       "0      DELHI      mumbai  NATIONAL  ROAD  12-04-2007      M  FAMILY  30.0\n",
       "1       PUNE      mumbai  NATIONAL   AIR  04-12-2002      F  FAMILY  20.0\n",
       "2     MUMBAI      mumbai  NATIONAL   AIR  05-12-2020      M   FRNDS  29.0\n",
       "3        GOA      mumbai  NATIONAL  BIKE  12-07-2003      F    SOLO  23.0\n",
       "4  RAJASTHAN      mumbai  NATIONAL   CAR  12-05-2008      M  FAMILY  27.0"
      ]
     },
     "execution_count": 21,
     "metadata": {},
     "output_type": "execute_result"
    }
   ],
   "source": [
    "kmk_df = pd.read_csv(\"C:\\\\Users\\\\KIIT\\\\Desktop\\\\ALL CODE ND STUFFS\\\\PROJECTS-REPOS\\\\Python Folder\\\\Data Analysis Folder\\\\Data\\\\KATEMAHANKAL.csv\",encoding= 'unicode_escape')\n",
    "kmk_df.head()"
   ]
  }
 ],
 "metadata": {
  "kernelspec": {
   "display_name": "Python 3 (ipykernel)",
   "language": "python",
   "name": "python3"
  },
  "language_info": {
   "codemirror_mode": {
    "name": "ipython",
    "version": 3
   },
   "file_extension": ".py",
   "mimetype": "text/x-python",
   "name": "python",
   "nbconvert_exporter": "python",
   "pygments_lexer": "ipython3",
   "version": "3.9.7"
  }
 },
 "nbformat": 4,
 "nbformat_minor": 5
}
