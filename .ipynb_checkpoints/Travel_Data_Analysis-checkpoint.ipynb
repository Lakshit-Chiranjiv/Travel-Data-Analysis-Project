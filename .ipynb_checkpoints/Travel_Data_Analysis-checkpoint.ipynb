{
 "cells": [
  {
   "cell_type": "code",
   "execution_count": 11,
   "id": "303d5bf8",
   "metadata": {},
   "outputs": [],
   "source": [
    "#importing libraries\n",
    "\n",
    "import pandas as pd\n",
    "import numpy as np\n",
    "import matplotlib.pyplot as plt\n",
    "import seaborn as sns\n",
    "%matplotlib inline"
   ]
  },
  {
   "cell_type": "code",
   "execution_count": 21,
   "id": "1dd57010",
   "metadata": {
    "scrolled": false
   },
   "outputs": [
    {
     "data": {
      "text/html": [
       "<div>\n",
       "<style scoped>\n",
       "    .dataframe tbody tr th:only-of-type {\n",
       "        vertical-align: middle;\n",
       "    }\n",
       "\n",
       "    .dataframe tbody tr th {\n",
       "        vertical-align: top;\n",
       "    }\n",
       "\n",
       "    .dataframe thead th {\n",
       "        text-align: right;\n",
       "    }\n",
       "</style>\n",
       "<table border=\"1\" class=\"dataframe\">\n",
       "  <thead>\n",
       "    <tr style=\"text-align: right;\">\n",
       "      <th></th>\n",
       "      <th>ORIGIN</th>\n",
       "      <th>DESTINATION</th>\n",
       "      <th>TYPE</th>\n",
       "      <th>MODE</th>\n",
       "      <th>DATE</th>\n",
       "      <th>GENDER</th>\n",
       "      <th>WITH</th>\n",
       "      <th>age</th>\n",
       "    </tr>\n",
       "  </thead>\n",
       "  <tbody>\n",
       "    <tr>\n",
       "      <th>0</th>\n",
       "      <td>DELHI</td>\n",
       "      <td>mumbai</td>\n",
       "      <td>NATIONAL</td>\n",
       "      <td>ROAD</td>\n",
       "      <td>12-04-2007</td>\n",
       "      <td>M</td>\n",
       "      <td>FAMILY</td>\n",
       "      <td>30.0</td>\n",
       "    </tr>\n",
       "    <tr>\n",
       "      <th>1</th>\n",
       "      <td>PUNE</td>\n",
       "      <td>mumbai</td>\n",
       "      <td>NATIONAL</td>\n",
       "      <td>AIR</td>\n",
       "      <td>04-12-2002</td>\n",
       "      <td>F</td>\n",
       "      <td>FAMILY</td>\n",
       "      <td>20.0</td>\n",
       "    </tr>\n",
       "    <tr>\n",
       "      <th>2</th>\n",
       "      <td>MUMBAI</td>\n",
       "      <td>mumbai</td>\n",
       "      <td>NATIONAL</td>\n",
       "      <td>AIR</td>\n",
       "      <td>05-12-2020</td>\n",
       "      <td>M</td>\n",
       "      <td>FRNDS</td>\n",
       "      <td>29.0</td>\n",
       "    </tr>\n",
       "    <tr>\n",
       "      <th>3</th>\n",
       "      <td>GOA</td>\n",
       "      <td>mumbai</td>\n",
       "      <td>NATIONAL</td>\n",
       "      <td>BIKE</td>\n",
       "      <td>12-07-2003</td>\n",
       "      <td>F</td>\n",
       "      <td>SOLO</td>\n",
       "      <td>23.0</td>\n",
       "    </tr>\n",
       "    <tr>\n",
       "      <th>4</th>\n",
       "      <td>RAJASTHAN</td>\n",
       "      <td>mumbai</td>\n",
       "      <td>NATIONAL</td>\n",
       "      <td>CAR</td>\n",
       "      <td>12-05-2008</td>\n",
       "      <td>M</td>\n",
       "      <td>FAMILY</td>\n",
       "      <td>27.0</td>\n",
       "    </tr>\n",
       "  </tbody>\n",
       "</table>\n",
       "</div>"
      ],
      "text/plain": [
       "      ORIGIN DESTINATION      TYPE  MODE        DATE GENDER    WITH   age\n",
       "0      DELHI      mumbai  NATIONAL  ROAD  12-04-2007      M  FAMILY  30.0\n",
       "1       PUNE      mumbai  NATIONAL   AIR  04-12-2002      F  FAMILY  20.0\n",
       "2     MUMBAI      mumbai  NATIONAL   AIR  05-12-2020      M   FRNDS  29.0\n",
       "3        GOA      mumbai  NATIONAL  BIKE  12-07-2003      F    SOLO  23.0\n",
       "4  RAJASTHAN      mumbai  NATIONAL   CAR  12-05-2008      M  FAMILY  27.0"
      ]
     },
     "execution_count": 21,
     "metadata": {},
     "output_type": "execute_result"
    }
   ],
   "source": [
    "kmk_df = pd.read_csv(\"C:\\\\Users\\\\KIIT\\\\Desktop\\\\ALL CODE ND STUFFS\\\\PROJECTS-REPOS\\\\Python Folder\\\\Data Analysis Folder\\\\Data\\\\KATEMAHANKAL.csv\",encoding= 'unicode_escape')\n",
    "kmk_df.head()"
   ]
  },
  {
   "cell_type": "code",
   "execution_count": 24,
   "id": "b4e90a3b",
   "metadata": {},
   "outputs": [
    {
     "name": "stdout",
     "output_type": "stream",
     "text": [
      "<class 'pandas.core.frame.DataFrame'>\n",
      "RangeIndex: 879 entries, 0 to 878\n",
      "Data columns (total 8 columns):\n",
      " #   Column       Non-Null Count  Dtype  \n",
      "---  ------       --------------  -----  \n",
      " 0   ORIGIN       679 non-null    object \n",
      " 1   DESTINATION  679 non-null    object \n",
      " 2   TYPE         679 non-null    object \n",
      " 3   MODE         679 non-null    object \n",
      " 4   DATE         679 non-null    object \n",
      " 5   GENDER       679 non-null    object \n",
      " 6   WITH         679 non-null    object \n",
      " 7   age          679 non-null    float64\n",
      "dtypes: float64(1), object(7)\n",
      "memory usage: 55.1+ KB\n"
     ]
    }
   ],
   "source": [
    "kmk_df.info()"
   ]
  },
  {
   "cell_type": "code",
   "execution_count": 25,
   "id": "cdf1f170",
   "metadata": {},
   "outputs": [
    {
     "data": {
      "text/html": [
       "<div>\n",
       "<style scoped>\n",
       "    .dataframe tbody tr th:only-of-type {\n",
       "        vertical-align: middle;\n",
       "    }\n",
       "\n",
       "    .dataframe tbody tr th {\n",
       "        vertical-align: top;\n",
       "    }\n",
       "\n",
       "    .dataframe thead th {\n",
       "        text-align: right;\n",
       "    }\n",
       "</style>\n",
       "<table border=\"1\" class=\"dataframe\">\n",
       "  <thead>\n",
       "    <tr style=\"text-align: right;\">\n",
       "      <th></th>\n",
       "      <th>age</th>\n",
       "    </tr>\n",
       "  </thead>\n",
       "  <tbody>\n",
       "    <tr>\n",
       "      <th>count</th>\n",
       "      <td>679.000000</td>\n",
       "    </tr>\n",
       "    <tr>\n",
       "      <th>mean</th>\n",
       "      <td>26.681885</td>\n",
       "    </tr>\n",
       "    <tr>\n",
       "      <th>std</th>\n",
       "      <td>5.464998</td>\n",
       "    </tr>\n",
       "    <tr>\n",
       "      <th>min</th>\n",
       "      <td>19.000000</td>\n",
       "    </tr>\n",
       "    <tr>\n",
       "      <th>25%</th>\n",
       "      <td>23.000000</td>\n",
       "    </tr>\n",
       "    <tr>\n",
       "      <th>50%</th>\n",
       "      <td>26.000000</td>\n",
       "    </tr>\n",
       "    <tr>\n",
       "      <th>75%</th>\n",
       "      <td>29.000000</td>\n",
       "    </tr>\n",
       "    <tr>\n",
       "      <th>max</th>\n",
       "      <td>50.000000</td>\n",
       "    </tr>\n",
       "  </tbody>\n",
       "</table>\n",
       "</div>"
      ],
      "text/plain": [
       "              age\n",
       "count  679.000000\n",
       "mean    26.681885\n",
       "std      5.464998\n",
       "min     19.000000\n",
       "25%     23.000000\n",
       "50%     26.000000\n",
       "75%     29.000000\n",
       "max     50.000000"
      ]
     },
     "execution_count": 25,
     "metadata": {},
     "output_type": "execute_result"
    }
   ],
   "source": [
    "kmk_df.describe()"
   ]
  },
  {
   "cell_type": "code",
   "execution_count": 26,
   "id": "141c3689",
   "metadata": {},
   "outputs": [
    {
     "data": {
      "text/plain": [
       "ORIGIN         200\n",
       "DESTINATION    200\n",
       "TYPE           200\n",
       "MODE           200\n",
       "DATE           200\n",
       "GENDER         200\n",
       "WITH           200\n",
       "age            200\n",
       "dtype: int64"
      ]
     },
     "execution_count": 26,
     "metadata": {},
     "output_type": "execute_result"
    }
   ],
   "source": [
    "kmk_df.isna().sum()"
   ]
  },
  {
   "cell_type": "code",
   "execution_count": 28,
   "id": "edbebb87",
   "metadata": {},
   "outputs": [
    {
     "data": {
      "text/plain": [
       "<AxesSubplot:xlabel='MODE'>"
      ]
     },
     "execution_count": 28,
     "metadata": {},
     "output_type": "execute_result"
    },
    {
     "data": {
      "image/png": "[encoded data removed]",
      "text/plain": [
       "<Figure size 864x432 with 1 Axes>"
      ]
     },
     "metadata": {
      "needs_background": "light"
     },
     "output_type": "display_data"
    }
   ],
   "source": [
    "mode = kmk_df.groupby('MODE').size().sort_values(ascending = False)\n",
    "mode.head(10).plot(kind = 'bar', figsize = (12,6), color = sns.color_palette('magma'))"
   ]
  }
 ],
 "metadata": {
  "kernelspec": {
   "display_name": "Python 3 (ipykernel)",
   "language": "python",
   "name": "python3"
  },
  "language_info": {
   "codemirror_mode": {
    "name": "ipython",
    "version": 3
   },
   "file_extension": ".py",
   "mimetype": "text/x-python",
   "name": "python",
   "nbconvert_exporter": "python",
   "pygments_lexer": "ipython3",
   "version": "3.9.7"
  }
 },
 "nbformat": 4,
 "nbformat_minor": 5
}
